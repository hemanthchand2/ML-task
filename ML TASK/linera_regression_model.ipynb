{
 "cells": [
  {
   "cell_type": "code",
   "execution_count": 1,
   "metadata": {
    "executionInfo": {
     "elapsed": 1110,
     "status": "ok",
     "timestamp": 1709960119992,
     "user": {
      "displayName": "muthu kumaran",
      "userId": "08111972024284364600"
     },
     "user_tz": -330
    },
    "id": "JegjsPNQMkF0"
   },
   "outputs": [],
   "source": [
    "import numpy as np\n",
    "import pandas as pd\n",
    "import math"
   ]
  },
  {
   "cell_type": "code",
   "execution_count": 2,
   "metadata": {
    "executionInfo": {
     "elapsed": 1810,
     "status": "ok",
     "timestamp": 1709960121798,
     "user": {
      "displayName": "muthu kumaran",
      "userId": "08111972024284364600"
     },
     "user_tz": -330
    },
    "id": "JWY_ilEtMxKY"
   },
   "outputs": [],
   "source": [
    "# Training data\n",
    "anger_train = pd.read_csv('./datasets/anger_train.txt', sep='\\t', names=['index', 'tweet', 'Emotion', 'score'])\n",
    "fear_train = pd.read_csv('./datasets/fear_train.txt',  sep='\\t', names=['index', 'tweet', 'Emotion', 'score'])\n",
    "joy_train = pd.read_csv('./datasets/joy_train.txt',  sep='\\t', names=['index', 'tweet', 'Emotion', 'score'])\n",
    "sadness_train = pd.read_csv('./datasets/sadness_train.txt',  sep='\\t', names=['index', 'tweet', 'Emotion', 'score'])"
   ]
  },
  {
   "cell_type": "code",
   "execution_count": 3,
   "metadata": {
    "colab": {
     "base_uri": "https://localhost:8080/",
     "height": 143
    },
    "executionInfo": {
     "elapsed": 11,
     "status": "ok",
     "timestamp": 1709960121799,
     "user": {
      "displayName": "muthu kumaran",
      "userId": "08111972024284364600"
     },
     "user_tz": -330
    },
    "id": "-rp8kUqrMztb",
    "outputId": "2144afec-2064-4233-f0c7-8fc41fcc2b4e"
   },
   "outputs": [
    {
     "data": {
      "text/html": [
       "<div>\n",
       "<style scoped>\n",
       "    .dataframe tbody tr th:only-of-type {\n",
       "        vertical-align: middle;\n",
       "    }\n",
       "\n",
       "    .dataframe tbody tr th {\n",
       "        vertical-align: top;\n",
       "    }\n",
       "\n",
       "    .dataframe thead th {\n",
       "        text-align: right;\n",
       "    }\n",
       "</style>\n",
       "<table border=\"1\" class=\"dataframe\">\n",
       "  <thead>\n",
       "    <tr style=\"text-align: right;\">\n",
       "      <th></th>\n",
       "      <th>index</th>\n",
       "      <th>tweet</th>\n",
       "      <th>Emotion</th>\n",
       "      <th>score</th>\n",
       "    </tr>\n",
       "  </thead>\n",
       "  <tbody>\n",
       "    <tr>\n",
       "      <th>0</th>\n",
       "      <td>10000</td>\n",
       "      <td>How the fu*k! Who the heck! moved my fridge!.....</td>\n",
       "      <td>anger</td>\n",
       "      <td>0.938</td>\n",
       "    </tr>\n",
       "    <tr>\n",
       "      <th>1</th>\n",
       "      <td>10001</td>\n",
       "      <td>So my Indian Uber driver just called someone t...</td>\n",
       "      <td>anger</td>\n",
       "      <td>0.896</td>\n",
       "    </tr>\n",
       "    <tr>\n",
       "      <th>2</th>\n",
       "      <td>10002</td>\n",
       "      <td>@DPD_UK I asked for my parcel to be delivered ...</td>\n",
       "      <td>anger</td>\n",
       "      <td>0.896</td>\n",
       "    </tr>\n",
       "  </tbody>\n",
       "</table>\n",
       "</div>"
      ],
      "text/plain": [
       "   index                                              tweet Emotion  score\n",
       "0  10000  How the fu*k! Who the heck! moved my fridge!.....   anger  0.938\n",
       "1  10001  So my Indian Uber driver just called someone t...   anger  0.896\n",
       "2  10002  @DPD_UK I asked for my parcel to be delivered ...   anger  0.896"
      ]
     },
     "execution_count": 3,
     "metadata": {},
     "output_type": "execute_result"
    }
   ],
   "source": [
    "anger_train.head(3)"
   ]
  },
  {
   "cell_type": "code",
   "execution_count": 7,
   "metadata": {
    "executionInfo": {
     "elapsed": 2346,
     "status": "ok",
     "timestamp": 1709960124137,
     "user": {
      "displayName": "muthu kumaran",
      "userId": "08111972024284364600"
     },
     "user_tz": -330
    },
    "id": "auUjWLgKNAyf"
   },
   "outputs": [],
   "source": [
    "# Validation data\n",
    "anger_dev_with_intensity = pd.read_csv('./datasets/anger_dev_w.txt',  sep='\\t', names=['index', 'tweet', 'Emotion', 'score'])\n",
    "fear_dev_with_intensity = pd.read_csv('./datasets/fear_dev_w.txt',  sep='\\t', names=['index', 'tweet', 'Emotion', 'score'])\n",
    "joy_dev_with_intensity = pd.read_csv('./datasets/joy_dev_w.txt',  sep='\\t', names=['index', 'tweet', 'Emotion', 'score'])\n",
    "sadness_dev_with_intensity = pd.read_csv('./datasets/sadness_dev_w.txt',  sep='\\t', names=['index', 'tweet', 'Emotion', 'score'])\n",
    "\n",
    "\n",
    "anger_dev = pd.read_csv('./datasets/anger_dev.txt',  sep='\\t', names=['tweet', 'Emotion','score'])\n",
    "anger_dev.reset_index(drop=False, inplace=True)\n",
    "anger_dev.drop('score', axis=1, inplace=True)\n",
    "\n",
    "fear_dev = pd.read_csv('./datasets/fear_dev.txt',  sep='\\t', names=['tweet', 'Emotion','score'])\n",
    "fear_dev.reset_index(drop=False, inplace=True)\n",
    "fear_dev.drop('score', axis=1, inplace=True)\n",
    "\n",
    "joy_dev = pd.read_csv('./datasets/joy_dev.txt',  sep='\\t', names=['tweet', 'Emotion','score'])\n",
    "joy_dev.reset_index(drop=False, inplace=True)\n",
    "joy_dev.drop('score', axis=1, inplace=True)\n",
    "\n",
    "sadness_dev = pd.read_csv('./datasets/sadness_dev.txt',  sep='\\t', names=['tweet', 'Emotion','score'])\n",
    "sadness_dev.reset_index(drop=False, inplace=True)\n",
    "sadness_dev.drop('score', axis=1, inplace=True)"
   ]
  },
  {
   "cell_type": "code",
   "execution_count": 8,
   "metadata": {
    "colab": {
     "base_uri": "https://localhost:8080/",
     "height": 143
    },
    "executionInfo": {
     "elapsed": 24,
     "status": "ok",
     "timestamp": 1709960124138,
     "user": {
      "displayName": "muthu kumaran",
      "userId": "08111972024284364600"
     },
     "user_tz": -330
    },
    "id": "H2GXuI1NNFFo",
    "outputId": "8834b4f0-b2ce-49ed-b482-cd134cde2727"
   },
   "outputs": [
    {
     "data": {
      "text/html": [
       "<div>\n",
       "<style scoped>\n",
       "    .dataframe tbody tr th:only-of-type {\n",
       "        vertical-align: middle;\n",
       "    }\n",
       "\n",
       "    .dataframe tbody tr th {\n",
       "        vertical-align: top;\n",
       "    }\n",
       "\n",
       "    .dataframe thead th {\n",
       "        text-align: right;\n",
       "    }\n",
       "</style>\n",
       "<table border=\"1\" class=\"dataframe\">\n",
       "  <thead>\n",
       "    <tr style=\"text-align: right;\">\n",
       "      <th></th>\n",
       "      <th>index</th>\n",
       "      <th>tweet</th>\n",
       "      <th>Emotion</th>\n",
       "      <th>score</th>\n",
       "    </tr>\n",
       "  </thead>\n",
       "  <tbody>\n",
       "    <tr>\n",
       "      <th>0</th>\n",
       "      <td>10941</td>\n",
       "      <td>At the point today where if someone says somet...</td>\n",
       "      <td>anger</td>\n",
       "      <td>0.319</td>\n",
       "    </tr>\n",
       "    <tr>\n",
       "      <th>1</th>\n",
       "      <td>10942</td>\n",
       "      <td>@CorningFootball  IT'S GAME DAY!!!!      T MIN...</td>\n",
       "      <td>anger</td>\n",
       "      <td>0.144</td>\n",
       "    </tr>\n",
       "    <tr>\n",
       "      <th>2</th>\n",
       "      <td>10943</td>\n",
       "      <td>This game has pissed me off more than any othe...</td>\n",
       "      <td>anger</td>\n",
       "      <td>0.898</td>\n",
       "    </tr>\n",
       "  </tbody>\n",
       "</table>\n",
       "</div>"
      ],
      "text/plain": [
       "   index                                              tweet Emotion  score\n",
       "0  10941  At the point today where if someone says somet...   anger  0.319\n",
       "1  10942  @CorningFootball  IT'S GAME DAY!!!!      T MIN...   anger  0.144\n",
       "2  10943  This game has pissed me off more than any othe...   anger  0.898"
      ]
     },
     "execution_count": 8,
     "metadata": {},
     "output_type": "execute_result"
    }
   ],
   "source": [
    "anger_dev_with_intensity.head(3)"
   ]
  },
  {
   "cell_type": "code",
   "execution_count": 9,
   "metadata": {
    "colab": {
     "base_uri": "https://localhost:8080/",
     "height": 143
    },
    "executionInfo": {
     "elapsed": 21,
     "status": "ok",
     "timestamp": 1709960124139,
     "user": {
      "displayName": "muthu kumaran",
      "userId": "08111972024284364600"
     },
     "user_tz": -330
    },
    "id": "TRxPDRt8NIry",
    "outputId": "b1c3997c-430d-47f5-d335-ff772a869b89"
   },
   "outputs": [
    {
     "data": {
      "text/html": [
       "<div>\n",
       "<style scoped>\n",
       "    .dataframe tbody tr th:only-of-type {\n",
       "        vertical-align: middle;\n",
       "    }\n",
       "\n",
       "    .dataframe tbody tr th {\n",
       "        vertical-align: top;\n",
       "    }\n",
       "\n",
       "    .dataframe thead th {\n",
       "        text-align: right;\n",
       "    }\n",
       "</style>\n",
       "<table border=\"1\" class=\"dataframe\">\n",
       "  <thead>\n",
       "    <tr style=\"text-align: right;\">\n",
       "      <th></th>\n",
       "      <th>index</th>\n",
       "      <th>tweet</th>\n",
       "      <th>Emotion</th>\n",
       "    </tr>\n",
       "  </thead>\n",
       "  <tbody>\n",
       "    <tr>\n",
       "      <th>0</th>\n",
       "      <td>10857</td>\n",
       "      <td>@ZubairSabirPTI  pls dont insult the word 'Molna'</td>\n",
       "      <td>anger</td>\n",
       "    </tr>\n",
       "    <tr>\n",
       "      <th>1</th>\n",
       "      <td>10858</td>\n",
       "      <td>@ArcticFantasy I would have almost took offens...</td>\n",
       "      <td>anger</td>\n",
       "    </tr>\n",
       "    <tr>\n",
       "      <th>2</th>\n",
       "      <td>10859</td>\n",
       "      <td>@IllinoisLoyalty that Rutgers game was an abom...</td>\n",
       "      <td>anger</td>\n",
       "    </tr>\n",
       "  </tbody>\n",
       "</table>\n",
       "</div>"
      ],
      "text/plain": [
       "   index                                              tweet Emotion\n",
       "0  10857  @ZubairSabirPTI  pls dont insult the word 'Molna'   anger\n",
       "1  10858  @ArcticFantasy I would have almost took offens...   anger\n",
       "2  10859  @IllinoisLoyalty that Rutgers game was an abom...   anger"
      ]
     },
     "execution_count": 9,
     "metadata": {},
     "output_type": "execute_result"
    }
   ],
   "source": [
    "anger_dev.head(3)"
   ]
  },
  {
   "cell_type": "code",
   "execution_count": 11,
   "metadata": {
    "executionInfo": {
     "elapsed": 2040,
     "status": "ok",
     "timestamp": 1709960126161,
     "user": {
      "displayName": "muthu kumaran",
      "userId": "08111972024284364600"
     },
     "user_tz": -330
    },
    "id": "_-1chK8lNKNt"
   },
   "outputs": [],
   "source": [
    "# Test data\n",
    "anger_test_with_intensity = pd.read_csv('./datasets/anger_test_w.txt',  sep='\\t', names=['index', 'tweet', 'Emotion', 'score'])\n",
    "fear_test_with_intensity = pd.read_csv('./datasets/fear_test_w.txt',  sep='\\t', names=['index', 'tweet', 'Emotion', 'score'])\n",
    "joy_test_with_intensity = pd.read_csv('./datasets/joy_test_w.txt',  sep='\\t', names=['index', 'tweet', 'Emotion', 'score'])\n",
    "sadness_test_with_intensity = pd.read_csv('./datasets/sadness_test_w.txt',  sep='\\t', names=['index', 'tweet', 'Emotion', 'score'])\n",
    "\n",
    "\n",
    "anger_test = pd.read_csv('./datasets/anger_test.txt',  sep='\\t', names=['index', 'tweet', 'Emotion','score'])\n",
    "anger_test.drop('score', axis=1, inplace=True)\n",
    "\n",
    "fear_test = pd.read_csv('./datasets/fear_test.txt',  sep='\\t', names=['index', 'tweet', 'Emotion','score'])\n",
    "fear_test.drop('score', axis=1, inplace=True)\n",
    "\n",
    "joy_test = pd.read_csv('./datasets/joy_test.txt',  sep='\\t', names=['index', 'tweet', 'Emotion','score'])\n",
    "joy_test.drop('score', axis=1, inplace=True)\n",
    "\n",
    "sadness_test = pd.read_csv('./datasets/sadness_test.txt',  sep='\\t', names=['index','tweet', 'Emotion','score'])\n",
    "sadness_test.drop('score', axis=1, inplace=True)"
   ]
  },
  {
   "cell_type": "code",
   "execution_count": 12,
   "metadata": {
    "colab": {
     "base_uri": "https://localhost:8080/",
     "height": 143
    },
    "executionInfo": {
     "elapsed": 26,
     "status": "ok",
     "timestamp": 1709960126162,
     "user": {
      "displayName": "muthu kumaran",
      "userId": "08111972024284364600"
     },
     "user_tz": -330
    },
    "id": "4UTkJYeRNNLa",
    "outputId": "fb68f4e7-8d9a-4b5e-f37e-a7c7dd6f3495"
   },
   "outputs": [
    {
     "data": {
      "text/html": [
       "<div>\n",
       "<style scoped>\n",
       "    .dataframe tbody tr th:only-of-type {\n",
       "        vertical-align: middle;\n",
       "    }\n",
       "\n",
       "    .dataframe tbody tr th {\n",
       "        vertical-align: top;\n",
       "    }\n",
       "\n",
       "    .dataframe thead th {\n",
       "        text-align: right;\n",
       "    }\n",
       "</style>\n",
       "<table border=\"1\" class=\"dataframe\">\n",
       "  <thead>\n",
       "    <tr style=\"text-align: right;\">\n",
       "      <th></th>\n",
       "      <th>index</th>\n",
       "      <th>tweet</th>\n",
       "      <th>Emotion</th>\n",
       "      <th>score</th>\n",
       "    </tr>\n",
       "  </thead>\n",
       "  <tbody>\n",
       "    <tr>\n",
       "      <th>0</th>\n",
       "      <td>10941</td>\n",
       "      <td>At the point today where if someone says somet...</td>\n",
       "      <td>anger</td>\n",
       "      <td>0.319</td>\n",
       "    </tr>\n",
       "    <tr>\n",
       "      <th>1</th>\n",
       "      <td>10942</td>\n",
       "      <td>@CorningFootball  IT'S GAME DAY!!!!      T MIN...</td>\n",
       "      <td>anger</td>\n",
       "      <td>0.144</td>\n",
       "    </tr>\n",
       "    <tr>\n",
       "      <th>2</th>\n",
       "      <td>10943</td>\n",
       "      <td>This game has pissed me off more than any othe...</td>\n",
       "      <td>anger</td>\n",
       "      <td>0.898</td>\n",
       "    </tr>\n",
       "  </tbody>\n",
       "</table>\n",
       "</div>"
      ],
      "text/plain": [
       "   index                                              tweet Emotion  score\n",
       "0  10941  At the point today where if someone says somet...   anger  0.319\n",
       "1  10942  @CorningFootball  IT'S GAME DAY!!!!      T MIN...   anger  0.144\n",
       "2  10943  This game has pissed me off more than any othe...   anger  0.898"
      ]
     },
     "execution_count": 12,
     "metadata": {},
     "output_type": "execute_result"
    }
   ],
   "source": [
    "anger_test_with_intensity.head(3)"
   ]
  },
  {
   "cell_type": "code",
   "execution_count": 13,
   "metadata": {
    "colab": {
     "base_uri": "https://localhost:8080/",
     "height": 143
    },
    "executionInfo": {
     "elapsed": 19,
     "status": "ok",
     "timestamp": 1709960126163,
     "user": {
      "displayName": "muthu kumaran",
      "userId": "08111972024284364600"
     },
     "user_tz": -330
    },
    "id": "DMVeI1S2NPPs",
    "outputId": "5fdcb2c6-ed38-4ace-fa1c-7219374ad2b7"
   },
   "outputs": [
    {
     "data": {
      "text/html": [
       "<div>\n",
       "<style scoped>\n",
       "    .dataframe tbody tr th:only-of-type {\n",
       "        vertical-align: middle;\n",
       "    }\n",
       "\n",
       "    .dataframe tbody tr th {\n",
       "        vertical-align: top;\n",
       "    }\n",
       "\n",
       "    .dataframe thead th {\n",
       "        text-align: right;\n",
       "    }\n",
       "</style>\n",
       "<table border=\"1\" class=\"dataframe\">\n",
       "  <thead>\n",
       "    <tr style=\"text-align: right;\">\n",
       "      <th></th>\n",
       "      <th>index</th>\n",
       "      <th>tweet</th>\n",
       "      <th>Emotion</th>\n",
       "    </tr>\n",
       "  </thead>\n",
       "  <tbody>\n",
       "    <tr>\n",
       "      <th>0</th>\n",
       "      <td>10941</td>\n",
       "      <td>At the point today where if someone says somet...</td>\n",
       "      <td>anger</td>\n",
       "    </tr>\n",
       "    <tr>\n",
       "      <th>1</th>\n",
       "      <td>10942</td>\n",
       "      <td>@CorningFootball  IT'S GAME DAY!!!!      T MIN...</td>\n",
       "      <td>anger</td>\n",
       "    </tr>\n",
       "    <tr>\n",
       "      <th>2</th>\n",
       "      <td>10943</td>\n",
       "      <td>This game has pissed me off more than any othe...</td>\n",
       "      <td>anger</td>\n",
       "    </tr>\n",
       "  </tbody>\n",
       "</table>\n",
       "</div>"
      ],
      "text/plain": [
       "   index                                              tweet Emotion\n",
       "0  10941  At the point today where if someone says somet...   anger\n",
       "1  10942  @CorningFootball  IT'S GAME DAY!!!!      T MIN...   anger\n",
       "2  10943  This game has pissed me off more than any othe...   anger"
      ]
     },
     "execution_count": 13,
     "metadata": {},
     "output_type": "execute_result"
    }
   ],
   "source": [
    "anger_test.head(3)"
   ]
  },
  {
   "cell_type": "markdown",
   "metadata": {
    "id": "5Nk_kQ1LjwDR"
   },
   "source": [
    "**Linear Regression**"
   ]
  },
  {
   "cell_type": "code",
   "execution_count": 14,
   "metadata": {
    "colab": {
     "base_uri": "https://localhost:8080/"
    },
    "executionInfo": {
     "elapsed": 1833,
     "status": "ok",
     "timestamp": 1709960127980,
     "user": {
      "displayName": "muthu kumaran",
      "userId": "08111972024284364600"
     },
     "user_tz": -330
    },
    "id": "Su_GSRYPNRqS",
    "outputId": "4b34ad22-120b-437e-bc7f-1f70cf8c8482"
   },
   "outputs": [
    {
     "name": "stderr",
     "output_type": "stream",
     "text": [
      "[nltk_data] Downloading package punkt to\n",
      "[nltk_data]     C:\\Users\\heman\\AppData\\Roaming\\nltk_data...\n",
      "[nltk_data]   Package punkt is already up-to-date!\n",
      "[nltk_data] Downloading package stopwords to\n",
      "[nltk_data]     C:\\Users\\heman\\AppData\\Roaming\\nltk_data...\n",
      "[nltk_data]   Package stopwords is already up-to-date!\n"
     ]
    }
   ],
   "source": [
    "import re\n",
    "import nltk\n",
    "from nltk.tokenize import word_tokenize\n",
    "from nltk.corpus import stopwords\n",
    "nltk.download('punkt')\n",
    "nltk.download('stopwords')\n",
    "\n",
    "def preprocess_text(text):\n",
    "    text = re.sub(r'http\\S+', '', text)\n",
    "    text = re.sub(r'[^\\w\\s]', '', text)\n",
    "    text = text.lower()\n",
    "    tokens = word_tokenize(text)\n",
    "    filtered_tokens = [token for token in tokens if token not in stopwords.words('english')]\n",
    "    return ' '.join(filtered_tokens)"
   ]
  },
  {
   "cell_type": "code",
   "execution_count": 15,
   "metadata": {
    "executionInfo": {
     "elapsed": 26160,
     "status": "ok",
     "timestamp": 1709960154138,
     "user": {
      "displayName": "muthu kumaran",
      "userId": "08111972024284364600"
     },
     "user_tz": -330
    },
    "id": "KvFAMJERNbB8"
   },
   "outputs": [],
   "source": [
    "anger_train['tweet'] = anger_train['tweet'].apply(preprocess_text)\n",
    "fear_train['tweet'] = fear_train['tweet'].apply(preprocess_text)\n",
    "joy_train['tweet'] = joy_train['tweet'].apply(preprocess_text)\n",
    "sadness_train['tweet'] = sadness_train['tweet'].apply(preprocess_text)\n",
    "\n",
    "\n",
    "anger_dev_with_intensity['tweet'] = anger_dev_with_intensity['tweet'].apply(preprocess_text)\n",
    "fear_dev_with_intensity['tweet'] = fear_dev_with_intensity['tweet'].apply(preprocess_text)\n",
    "joy_dev_with_intensity['tweet'] = joy_dev_with_intensity['tweet'].apply(preprocess_text)\n",
    "sadness_dev_with_intensity['tweet'] = sadness_dev_with_intensity['tweet'].apply(preprocess_text)\n",
    "\n",
    "anger_dev['tweet'] = anger_dev['tweet'].apply(preprocess_text)\n",
    "fear_dev['tweet'] = fear_dev['tweet'].apply(preprocess_text)\n",
    "joy_dev['tweet'] = joy_dev['tweet'].apply(preprocess_text)\n",
    "sadness_dev['tweet'] = sadness_dev['tweet'].apply(preprocess_text)\n",
    "\n",
    "\n",
    "anger_test_with_intensity['tweet'] = anger_test_with_intensity['tweet'].apply(preprocess_text)\n",
    "fear_test_with_intensity['tweet'] = fear_test_with_intensity['tweet'].apply(preprocess_text)\n",
    "joy_test_with_intensity['tweet'] = joy_test_with_intensity['tweet'].apply(preprocess_text)\n",
    "sadness_test_with_intensity['tweet'] = sadness_test_with_intensity['tweet'].apply(preprocess_text)\n",
    "\n",
    "anger_test['tweet'] = anger_test['tweet'].apply(preprocess_text)\n",
    "fear_test['tweet'] = fear_test['tweet'].apply(preprocess_text)\n",
    "joy_test['tweet'] = joy_test['tweet'].apply(preprocess_text)\n",
    "sadness_test['tweet'] = sadness_test['tweet'].apply(preprocess_text)"
   ]
  },
  {
   "cell_type": "code",
   "execution_count": 16,
   "metadata": {
    "colab": {
     "base_uri": "https://localhost:8080/",
     "height": 35
    },
    "executionInfo": {
     "elapsed": 11,
     "status": "ok",
     "timestamp": 1709960154139,
     "user": {
      "displayName": "muthu kumaran",
      "userId": "08111972024284364600"
     },
     "user_tz": -330
    },
    "id": "HOdS1AnwNf-b",
    "outputId": "b29b5643-26b1-4f2f-88ce-4a6772b983cb"
   },
   "outputs": [
    {
     "data": {
      "text/plain": [
       "'indian uber driver called someone n word wasnt moving vehicle id jumped disgusted'"
      ]
     },
     "execution_count": 16,
     "metadata": {},
     "output_type": "execute_result"
    }
   ],
   "source": [
    "anger_train['tweet'][1]"
   ]
  },
  {
   "cell_type": "code",
   "execution_count": 17,
   "metadata": {
    "colab": {
     "base_uri": "https://localhost:8080/"
    },
    "executionInfo": {
     "elapsed": 7262,
     "status": "ok",
     "timestamp": 1709961003858,
     "user": {
      "displayName": "muthu kumaran",
      "userId": "08111972024284364600"
     },
     "user_tz": -330
    },
    "id": "EwrC-CbTNtBL",
    "outputId": "49eee052-1723-4065-ff88-24f37946c35e"
   },
   "outputs": [
    {
     "name": "stdout",
     "output_type": "stream",
     "text": [
      "Emotion: anger, Root Mean Squared Error on Validation Set: 0.23503300363514398\n",
      "Emotion: fear, Root Mean Squared Error on Validation Set: 0.20989997331548327\n",
      "Emotion: joy, Root Mean Squared Error on Validation Set: 0.20467512407838678\n",
      "Emotion: sadness, Root Mean Squared Error on Validation Set: 0.25977873608509977\n"
     ]
    }
   ],
   "source": [
    "from sklearn.feature_extraction.text import TfidfVectorizer\n",
    "from sklearn.linear_model import LinearRegression\n",
    "from sklearn.metrics import mean_squared_error\n",
    "import joblib\n",
    "import math\n",
    "\n",
    "emotions = ['anger', 'fear', 'joy', 'sadness']\n",
    "models = {}\n",
    "\n",
    "for emotion in emotions:\n",
    "    train_data = globals()[f\"{emotion}_train\"]\n",
    "    train_data['clean_tweet'] = train_data['tweet'].apply(preprocess_text)\n",
    "\n",
    "    val_data = globals()[f\"{emotion}_dev_with_intensity\"]\n",
    "    val_data['clean_tweet'] = val_data['tweet'].apply(preprocess_text)\n",
    "\n",
    "    tfidf_vectorizer = TfidfVectorizer(max_features=5000)\n",
    "    X_train = tfidf_vectorizer.fit_transform(train_data['clean_tweet'])\n",
    "    y_train = train_data['score']\n",
    "    X_val = tfidf_vectorizer.transform(val_data['clean_tweet'])\n",
    "    y_val = val_data['score']\n",
    "\n",
    "    lr_model = LinearRegression()\n",
    "    lr_model.fit(X_train, y_train)\n",
    "\n",
    "    models[emotion] = lr_model\n",
    "\n",
    "    y_pred_val = lr_model.predict(X_val)\n",
    "    rmse_val = math.sqrt(mean_squared_error(y_val, y_pred_val))\n",
    "    print(f\"Emotion: {emotion}, Root Mean Squared Error on Validation Set: {rmse_val}\")"
   ]
  },
  {
   "cell_type": "code",
   "execution_count": 18,
   "metadata": {
    "colab": {
     "base_uri": "https://localhost:8080/"
    },
    "executionInfo": {
     "elapsed": 14024,
     "status": "ok",
     "timestamp": 1709961089905,
     "user": {
      "displayName": "muthu kumaran",
      "userId": "08111972024284364600"
     },
     "user_tz": -330
    },
    "id": "DrkxxkzXmgUy",
    "outputId": "2cf562af-2939-4bcf-ad5f-6a803c3ccd88"
   },
   "outputs": [
    {
     "name": "stdout",
     "output_type": "stream",
     "text": [
      "Emotion: anger, Root Mean Squared Error on Test Set: 0.23503300363514398\n",
      "Emotion: fear, Root Mean Squared Error on Test Set: 0.20989997331548327\n",
      "Emotion: joy, Root Mean Squared Error on Test Set: 0.2265382193594594\n",
      "Emotion: sadness, Root Mean Squared Error on Test Set: 0.2700066327077875\n"
     ]
    }
   ],
   "source": [
    "emotions = ['anger', 'fear', 'joy', 'sadness']\n",
    "models = {}\n",
    "\n",
    "for emotion in emotions:\n",
    "    train_data = globals()[f\"{emotion}_train\"]\n",
    "    train_data['clean_tweet'] = train_data['tweet'].apply(preprocess_text)\n",
    "\n",
    "    test_data = globals()[f\"{emotion}_test_with_intensity\"]\n",
    "    test_data['clean_tweet'] = test_data['tweet'].apply(preprocess_text)\n",
    "\n",
    "    tfidf_vectorizer = TfidfVectorizer(max_features=5000)\n",
    "    X_train = tfidf_vectorizer.fit_transform(train_data['clean_tweet'])\n",
    "    y_train = train_data['score']\n",
    "    X_test = tfidf_vectorizer.transform(test_data['clean_tweet'])\n",
    "    y_test = test_data['score']\n",
    "\n",
    "    lr_model = LinearRegression()\n",
    "    lr_model.fit(X_train, y_train)\n",
    "\n",
    "    models[emotion] = lr_model\n",
    "\n",
    "    y_pred_test = lr_model.predict(X_test)\n",
    "    rmse_test = math.sqrt(mean_squared_error(y_test, y_pred_test))\n",
    "    print(f\"Emotion: {emotion}, Root Mean Squared Error on Test Set: {rmse_test}\")"
   ]
  },
  {
   "cell_type": "code",
   "execution_count": null,
   "metadata": {},
   "outputs": [],
   "source": []
  }
 ],
 "metadata": {
  "colab": {
   "authorship_tag": "ABX9TyN+BGxXMO68fWZ6azJSgbzh",
   "mount_file_id": "11ffFiRrn-UDCs1tiaMAZuE8wC8A7GMo7",
   "provenance": []
  },
  "kernelspec": {
   "display_name": "Python 3 (ipykernel)",
   "language": "python",
   "name": "python3"
  },
  "language_info": {
   "codemirror_mode": {
    "name": "ipython",
    "version": 3
   },
   "file_extension": ".py",
   "mimetype": "text/x-python",
   "name": "python",
   "nbconvert_exporter": "python",
   "pygments_lexer": "ipython3",
   "version": "3.12.0"
  }
 },
 "nbformat": 4,
 "nbformat_minor": 4
}
